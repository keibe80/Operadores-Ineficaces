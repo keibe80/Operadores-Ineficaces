{
 "cells": [
  {
   "cell_type": "markdown",
   "metadata": {},
   "source": [
    "# Proyecto final: Telecomunicaciones (identificar operadores ineficaces)"
   ]
  },
  {
   "cell_type": "markdown",
   "metadata": {},
   "source": [
    "# Índice\n",
    "\n",
    "1. [Introducción](#in)\n",
    "2. [Objetivos](#ob)\n",
    "3. [Presentación](#sen) \n",
    "4. [Análisis exploratorio de datos (EDA)](#eda)\n",
    "5. [Valores nulos y duplicados](#nyd)\n",
    "6. [Conviertiendo tipos de datos](#ctd)\n",
    "7. [Ajustes](#aj)\n",
    "8. [Métricas](#me)\n",
    "9. [Umbrales](#um)\n",
    "10. [Porcentajes](#pr)\n",
    "11. [Prueba de hipótesis](#hp)\n",
    "12. [Dashboard](#ds)\n",
    "13. [Conclusiones](#cl)\n",
    "14. [Recomendaciones](#rc)\n",
    "15. [Fuentes de infomación](#fdi)"
   ]
  },
  {
   "cell_type": "markdown",
   "metadata": {},
   "source": [
    "##  Introducción  <a class=\"anchor\" id=\"in\"></a>\n",
    "\n",
    "El servicio de telefonía virtual CallMeMaybe está diseñando una nueva funcionalidad destinada a mejorar la eficiencia de sus operadores. Esta función proporcionará a los supervisores información crucial sobre los operadores que presentan bajos niveles de rendimiento, con el objetivo de optimizar el servicio y mejorar la experiencia del cliente. Para identificar a los operadores menos eficaces, se consideran diversos factores como el número de llamadas entrantes perdidas, el tiempo de espera prolongado para estas llamadas, y el bajo número de llamadas salientes realizadas, en caso de que el operador deba llevar a cabo esta tarea.\n",
    "\n",
    "Este proyecto tiene como propósito realizar un análisis exhaustivo de los datos proporcionados por el servicio, con el fin de identificar a los operadores ineficaces a través de un análisis exploratorio de los datos disponibles. Posteriormente, se pondrán a prueba diversas hipótesis estadísticas para validar los criterios de ineficacia propuestos. Los conjuntos de datos utilizados contienen información detallada sobre el uso del servicio de telefonía, incluyendo llamadas entrantes, salientes y llamadas internas entre los operadores, lo que permitirá realizar una evaluación completa de su desempeño."
   ]
  },
  {
   "cell_type": "markdown",
   "metadata": {},
   "source": [
    "##  Objetivos  <a class=\"anchor\" id=\"ob\"></a>\n",
    "\n",
    "- Llevar a cabo un análisis exploratorio de datos adecuado\n",
    "- Identificar a los operadores ineficaces\n",
    "- Realizar pruebas de hipótesis estadísticas"
   ]
  },
  {
   "cell_type": "markdown",
   "metadata": {},
   "source": [
    "##  Presentación <a class=\"anchor\" id=\"sen\"></a>\n",
    "\n",
    "https://drive.google.com/file/d/1Ardk2jsgdsu0J9MIFoTFmzcTwTuQNhsB/view?usp=sharing"
   ]
  },
  {
   "cell_type": "markdown",
   "metadata": {},
   "source": [
    "##  Análisis exploratorio de datos (EDA)  <a class=\"anchor\" id=\"eda\"></a>"
   ]
  },
  {
   "cell_type": "markdown",
   "metadata": {},
   "source": [
    "Se importan la librerías necesarias para este proyecto"
   ]
  },
  {
   "cell_type": "code",
   "execution_count": 1,
   "metadata": {},
   "outputs": [],
   "source": [
    "import pandas as pd\n",
    "import matplotlib.pyplot as plt\n",
    "import datetime as dt\n",
    "import seaborn as sns\n",
    "import re\n",
    "import numpy as np\n",
    "from scipy.stats import mannwhitneyu , ttest_ind"
   ]
  },
  {
   "cell_type": "markdown",
   "metadata": {},
   "source": [
    "Se cargan los datos los cuáles estarán contenidos en data frames. "
   ]
  },
  {
   "cell_type": "code",
   "execution_count": 2,
   "metadata": {},
   "outputs": [],
   "source": [
    "call=pd.read_csv(r\"C:\\Users\\hadgu\\Documents\\Proyectos_python\\Proyectos\\TTT\\Pruebas\\telecom_dataset_us.csv\")\n",
    "tarifa=pd.read_csv(r\"C:\\Users\\hadgu\\Documents\\Proyectos_python\\Proyectos\\TTT\\Pruebas\\telecom_clients_us.csv\")"
   ]
  },
  {
   "cell_type": "markdown",
   "metadata": {},
   "source": [
    "Se añaden funciones que se usarán a lo largo del proyecto"
   ]
  },
  {
   "cell_type": "code",
   "execution_count": 3,
   "metadata": {},
   "outputs": [],
   "source": [
    "#################################### Funciones ##############################################\n",
    "#Información general para los data frames\n",
    "def info(df,nombre):\n",
    "    print(f\"información para el data frame {nombre}\")\n",
    "    #Primeras 5 filas del data frame\n",
    "    print(df.head())\n",
    "    print(\"\\n\")\n",
    "    # Usando .info() en el data frame\n",
    "    print(df.info(show_counts=True))\n",
    "    print(\"\\n\")\n",
    "    # Usando el .describe en el data frame\n",
    "    print(df.describe())\n",
    "    print(\"\\n\")\n",
    "\n",
    "\n",
    "def merge_metrics(df_merged, metric_df, metric_name, on_column='operator_id'):\n",
    "    \"\"\"\n",
    "    Función para realizar el merge de una métrica con el DataFrame de operadores.\n",
    "\n",
    "    Parameters:\n",
    "    - df_merged: DataFrame principal con los operadores.\n",
    "    - metric_df: DataFrame de la métrica que se va a agregar (llamadas_perdidas, tiempo_espera_promedio, etc.).\n",
    "    - metric_name: Nombre de la métrica que se está agregando (se usará como nombre de columna).\n",
    "    - on_column: Columna sobre la que se realiza el merge (por defecto 'operator_id').\n",
    "\n",
    "    Returns:\n",
    "    - DataFrame con la métrica añadida.\n",
    "    \"\"\"\n",
    "    # Realizar el merge\n",
    "    df_merged = df_merged.merge(metric_df.reset_index(name=metric_name), how='left', on=on_column)\n",
    "    return df_merged\n",
    "\n",
    "def plot_histogram(data, column, color, title, xlabel, ylabel):\n",
    "    plt.figure(figsize=(10, 6))\n",
    "    plt.hist(data[column], bins=30, alpha=0.7, color=color, edgecolor='black')\n",
    "    plt.title(title)\n",
    "    plt.xlabel(xlabel)\n",
    "    plt.ylabel(ylabel)\n",
    "    plt.grid(True)\n",
    "    plt.yscale('log')\n",
    "    plt.tight_layout()\n",
    "    plt.show()\n",
    "\n",
    "def prueba_mannwhitney(eficaces, ineficaces, columna_eficaz, columna_ineficaz, alpha=0.05):\n",
    "    \"\"\"\n",
    "    Realiza la prueba de Mann-Whitney U entre dos grupos y muestra los resultados.\n",
    "    \n",
    "    Parameters:\n",
    "    - eficaces: DataFrame de operadores eficaces.\n",
    "    - ineficaces: DataFrame de operadores ineficaces.\n",
    "    - columna_eficaz: Nombre de la columna a comparar en el DataFrame de operadores eficaces.\n",
    "    - columna_ineficaz: Nombre de la columna a comparar en el DataFrame de operadores ineficaces.\n",
    "    - alpha: Nivel de significancia (por defecto 0.05).\n",
    "    \n",
    "    Imprime los resultados de la prueba y la interpretación.\n",
    "    \"\"\"\n",
    "    # Realizar la prueba de Mann-Whitney U\n",
    "    stat, p_value = mannwhitneyu(\n",
    "        eficaces[columna_eficaz], ineficaces[columna_ineficaz], alternative='two-sided'\n",
    "    )\n",
    "\n",
    "    # Imprimir resultados de la prueba\n",
    "    print(f\"\\nPrueba de Mann-Whitney U - {columna_eficaz} vs {columna_ineficaz}:\")\n",
    "    print(f\"p-value: {p_value:.4f}\")\n",
    "    \n",
    "    # Interpretación\n",
    "    if p_value < alpha:\n",
    "        print(\"Rechazamos la hipótesis nula: hay una diferencia significativa.\")\n",
    "    else:\n",
    "        print(\"No podemos rechazar la hipótesis nula: no hay una diferencia significativa.\")\n"
   ]
  },
  {
   "cell_type": "markdown",
   "metadata": {},
   "source": [
    "Obtención de información general de los data frames obtenidos"
   ]
  },
  {
   "cell_type": "code",
   "execution_count": 4,
   "metadata": {},
   "outputs": [
    {
     "name": "stdout",
     "output_type": "stream",
     "text": [
      "información para el data frame call\n",
      "   user_id                       date direction internal  operator_id  \\\n",
      "0   166377  2019-08-04 00:00:00+03:00        in    False          NaN   \n",
      "1   166377  2019-08-05 00:00:00+03:00       out     True     880022.0   \n",
      "2   166377  2019-08-05 00:00:00+03:00       out     True     880020.0   \n",
      "3   166377  2019-08-05 00:00:00+03:00       out     True     880020.0   \n",
      "4   166377  2019-08-05 00:00:00+03:00       out    False     880022.0   \n",
      "\n",
      "   is_missed_call  calls_count  call_duration  total_call_duration  \n",
      "0            True            2              0                    4  \n",
      "1            True            3              0                    5  \n",
      "2            True            1              0                    1  \n",
      "3           False            1             10                   18  \n",
      "4            True            3              0                   25  \n",
      "\n",
      "\n",
      "<class 'pandas.core.frame.DataFrame'>\n",
      "RangeIndex: 53902 entries, 0 to 53901\n",
      "Data columns (total 9 columns):\n",
      " #   Column               Non-Null Count  Dtype  \n",
      "---  ------               --------------  -----  \n",
      " 0   user_id              53902 non-null  int64  \n",
      " 1   date                 53902 non-null  object \n",
      " 2   direction            53902 non-null  object \n",
      " 3   internal             53785 non-null  object \n",
      " 4   operator_id          45730 non-null  float64\n",
      " 5   is_missed_call       53902 non-null  bool   \n",
      " 6   calls_count          53902 non-null  int64  \n",
      " 7   call_duration        53902 non-null  int64  \n",
      " 8   total_call_duration  53902 non-null  int64  \n",
      "dtypes: bool(1), float64(1), int64(4), object(3)\n",
      "memory usage: 3.3+ MB\n",
      "None\n",
      "\n",
      "\n",
      "             user_id    operator_id   calls_count  call_duration  \\\n",
      "count   53902.000000   45730.000000  53902.000000   53902.000000   \n",
      "mean   167295.344477  916535.993002     16.451245     866.684427   \n",
      "std       598.883775   21254.123136     62.917170    3731.791202   \n",
      "min    166377.000000  879896.000000      1.000000       0.000000   \n",
      "25%    166782.000000  900788.000000      1.000000       0.000000   \n",
      "50%    167162.000000  913938.000000      4.000000      38.000000   \n",
      "75%    167819.000000  937708.000000     12.000000     572.000000   \n",
      "max    168606.000000  973286.000000   4817.000000  144395.000000   \n",
      "\n",
      "       total_call_duration  \n",
      "count         53902.000000  \n",
      "mean           1157.133297  \n",
      "std            4403.468763  \n",
      "min               0.000000  \n",
      "25%              47.000000  \n",
      "50%             210.000000  \n",
      "75%             902.000000  \n",
      "max          166155.000000  \n",
      "\n",
      "\n",
      "información para el data frame tarifa\n",
      "   user_id tariff_plan  date_start\n",
      "0   166713           A  2019-08-15\n",
      "1   166901           A  2019-08-23\n",
      "2   168527           A  2019-10-29\n",
      "3   167097           A  2019-09-01\n",
      "4   168193           A  2019-10-16\n",
      "\n",
      "\n",
      "<class 'pandas.core.frame.DataFrame'>\n",
      "RangeIndex: 732 entries, 0 to 731\n",
      "Data columns (total 3 columns):\n",
      " #   Column       Non-Null Count  Dtype \n",
      "---  ------       --------------  ----- \n",
      " 0   user_id      732 non-null    int64 \n",
      " 1   tariff_plan  732 non-null    object\n",
      " 2   date_start   732 non-null    object\n",
      "dtypes: int64(1), object(2)\n",
      "memory usage: 17.3+ KB\n",
      "None\n",
      "\n",
      "\n",
      "             user_id\n",
      "count     732.000000\n",
      "mean   167431.927596\n",
      "std       633.810383\n",
      "min    166373.000000\n",
      "25%    166900.750000\n",
      "50%    167432.000000\n",
      "75%    167973.000000\n",
      "max    168606.000000\n",
      "\n",
      "\n"
     ]
    }
   ],
   "source": [
    "info(call,\"call\")\n",
    "info(tarifa,\"tarifa\")"
   ]
  },
  {
   "cell_type": "markdown",
   "metadata": {},
   "source": [
    "## Valores nulos y duplicados <a class=\"anchor\" id=\"nyd\"></a>"
   ]
  },
  {
   "cell_type": "markdown",
   "metadata": {},
   "source": [
    "Visualización de la naturaleza  y tratamiento a valores nulos"
   ]
  },
  {
   "cell_type": "code",
   "execution_count": 5,
   "metadata": {},
   "outputs": [
    {
     "name": "stdout",
     "output_type": "stream",
     "text": [
      "Valores nulos en el data frame call\n",
      "user_id                   0\n",
      "date                      0\n",
      "direction                 0\n",
      "internal                117\n",
      "operator_id            8172\n",
      "is_missed_call            0\n",
      "calls_count               0\n",
      "call_duration             0\n",
      "total_call_duration       0\n",
      "dtype: int64\n",
      "       user_id                       date direction internal  operator_id  \\\n",
      "0       166377  2019-08-04 00:00:00+03:00        in    False          NaN   \n",
      "7       166377  2019-08-05 00:00:00+03:00        in    False          NaN   \n",
      "9       166377  2019-08-06 00:00:00+03:00        in    False          NaN   \n",
      "17      166377  2019-08-07 00:00:00+03:00        in    False          NaN   \n",
      "27      166377  2019-08-12 00:00:00+03:00        in    False          NaN   \n",
      "...        ...                        ...       ...      ...          ...   \n",
      "53876   168601  2019-11-27 00:00:00+03:00        in    False          NaN   \n",
      "53880   168601  2019-11-28 00:00:00+03:00        in    False          NaN   \n",
      "53889   168603  2019-11-28 00:00:00+03:00        in    False          NaN   \n",
      "53893   168606  2019-11-08 00:00:00+03:00        in    False          NaN   \n",
      "53901   168606  2019-11-19 00:00:00+03:00        in    False          NaN   \n",
      "\n",
      "       is_missed_call  calls_count  call_duration  total_call_duration  \n",
      "0                True            2              0                    4  \n",
      "7                True            6              0                   35  \n",
      "9                True            4              0                   62  \n",
      "17               True            2              0                   24  \n",
      "27               True            2              0                   34  \n",
      "...               ...          ...            ...                  ...  \n",
      "53876            True            2              0                   39  \n",
      "53880            True            1              0                   19  \n",
      "53889            True            1              0                   30  \n",
      "53893            True            6              0                  121  \n",
      "53901            True            2              0                   64  \n",
      "\n",
      "[8232 rows x 9 columns]\n"
     ]
    }
   ],
   "source": [
    "print(\"Valores nulos en el data frame call\")\n",
    "print(call.isnull().sum())\n",
    "print(call[call.isnull().any(axis=1)])"
   ]
  },
  {
   "cell_type": "markdown",
   "metadata": {},
   "source": [
    "Se tienen valores nulos en la columna internal de 117 y operator_id de 8172 en el data frame call"
   ]
  },
  {
   "cell_type": "code",
   "execution_count": 6,
   "metadata": {},
   "outputs": [
    {
     "name": "stdout",
     "output_type": "stream",
     "text": [
      "Valores nulos en el data frame tarifa\n",
      "user_id        0\n",
      "tariff_plan    0\n",
      "date_start     0\n",
      "dtype: int64\n"
     ]
    }
   ],
   "source": [
    "print(\"Valores nulos en el data frame tarifa\")\n",
    "print(tarifa.isnull().sum())\n"
   ]
  },
  {
   "cell_type": "markdown",
   "metadata": {},
   "source": [
    "No se encontraron valores nules en el data frame tarifa"
   ]
  },
  {
   "cell_type": "markdown",
   "metadata": {},
   "source": [
    "Tratando valores nulos: debido a que la columna internal solo tiene 117 valores nulos de 53902 datos se opta por eliminar dicho registros, por otra parte la columna operator_id tiene 8172 valores nulos de 53902 debido a que es una cifra mayor se cambiarán por el número cero haciendo alusión a que el operador es desconocido"
   ]
  },
  {
   "cell_type": "code",
   "execution_count": 7,
   "metadata": {},
   "outputs": [],
   "source": [
    "call = call.dropna(subset=['internal'])\n",
    "call['operator_id'] = call['operator_id'].fillna(0)"
   ]
  },
  {
   "cell_type": "markdown",
   "metadata": {},
   "source": [
    "Se comprueba si el tratamiento de valores nulos fue exitoso."
   ]
  },
  {
   "cell_type": "code",
   "execution_count": 8,
   "metadata": {},
   "outputs": [
    {
     "name": "stdout",
     "output_type": "stream",
     "text": [
      "Valores nulos en el data frame call\n",
      "user_id                0\n",
      "date                   0\n",
      "direction              0\n",
      "internal               0\n",
      "operator_id            0\n",
      "is_missed_call         0\n",
      "calls_count            0\n",
      "call_duration          0\n",
      "total_call_duration    0\n",
      "dtype: int64\n"
     ]
    }
   ],
   "source": [
    "print(\"Valores nulos en el data frame call\") \n",
    "print(call.isnull().sum())"
   ]
  },
  {
   "cell_type": "markdown",
   "metadata": {},
   "source": [
    "Visualización y tratamiento a valores duplicados"
   ]
  },
  {
   "cell_type": "code",
   "execution_count": 9,
   "metadata": {},
   "outputs": [
    {
     "name": "stdout",
     "output_type": "stream",
     "text": [
      "Data frame call\n",
      " 4893\n",
      "Data frame tarifa\n",
      " 0\n"
     ]
    }
   ],
   "source": [
    "print(\"Data frame call\\n\", call.duplicated().sum())\n",
    "print(\"Data frame tarifa\\n\", tarifa.duplicated().sum())"
   ]
  },
  {
   "cell_type": "markdown",
   "metadata": {},
   "source": [
    "Se encontraron 4900 duplicados en el data frame call, mientras es que el data frame tarifa no se encontraron duplicados. Se procede a eliminar los valores duplicados en el data frame."
   ]
  },
  {
   "cell_type": "code",
   "execution_count": 10,
   "metadata": {},
   "outputs": [
    {
     "name": "stdout",
     "output_type": "stream",
     "text": [
      "Data frame call\n",
      " 0\n"
     ]
    }
   ],
   "source": [
    "call.drop_duplicates(inplace=True) \n",
    "print(\"Data frame call\\n\", call.duplicated().sum()) "
   ]
  },
  {
   "cell_type": "markdown",
   "metadata": {},
   "source": [
    "##  Conviertiendo tipos de datos  <a class=\"anchor\" id=\"ctd\"></a>"
   ]
  },
  {
   "cell_type": "markdown",
   "metadata": {},
   "source": [
    "Se cambiará el tipo de dato de las columnas referentes a la fecha en cada data frame con el fin de que sean tipo datetime y en el caso de la columna internal de call se asegurará que sus datos sean booleanos."
   ]
  },
  {
   "cell_type": "code",
   "execution_count": 11,
   "metadata": {},
   "outputs": [
    {
     "name": "stdout",
     "output_type": "stream",
     "text": [
      "<class 'pandas.core.frame.DataFrame'>\n",
      "Index: 48892 entries, 0 to 53901\n",
      "Data columns (total 9 columns):\n",
      " #   Column               Non-Null Count  Dtype         \n",
      "---  ------               --------------  -----         \n",
      " 0   user_id              48892 non-null  int64         \n",
      " 1   date                 48892 non-null  datetime64[ns]\n",
      " 2   direction            48892 non-null  object        \n",
      " 3   internal             48892 non-null  bool          \n",
      " 4   operator_id          48892 non-null  float64       \n",
      " 5   is_missed_call       48892 non-null  bool          \n",
      " 6   calls_count          48892 non-null  int64         \n",
      " 7   call_duration        48892 non-null  int64         \n",
      " 8   total_call_duration  48892 non-null  int64         \n",
      "dtypes: bool(2), datetime64[ns](1), float64(1), int64(4), object(1)\n",
      "memory usage: 3.1+ MB\n",
      "None\n",
      "<class 'pandas.core.frame.DataFrame'>\n",
      "RangeIndex: 732 entries, 0 to 731\n",
      "Data columns (total 3 columns):\n",
      " #   Column       Non-Null Count  Dtype         \n",
      "---  ------       --------------  -----         \n",
      " 0   user_id      732 non-null    int64         \n",
      " 1   tariff_plan  732 non-null    object        \n",
      " 2   date_start   732 non-null    datetime64[ns]\n",
      "dtypes: datetime64[ns](1), int64(1), object(1)\n",
      "memory usage: 17.3+ KB\n",
      "None\n"
     ]
    }
   ],
   "source": [
    "call['date'] = pd.to_datetime(call['date'], errors='coerce')\n",
    "call['date'] = call['date'].dt.tz_localize(None)\n",
    "tarifa['date_start'] = pd.to_datetime(tarifa['date_start'], errors='coerce')\n",
    "call['internal'] = call['internal'].astype(bool)\n",
    "\n",
    "print(call.info())\n",
    "print(tarifa.info())\n"
   ]
  },
  {
   "cell_type": "markdown",
   "metadata": {},
   "source": [
    "## Ajustes  <a class=\"anchor\" id=\"aj\"></a>"
   ]
  },
  {
   "cell_type": "markdown",
   "metadata": {},
   "source": [
    "1. Se agregará  la columna call_espera que hace referencia a el tiempo que tarda un operador tomar una llamada.\n",
    "2. Se eliminarán los casos donde si la llamada se perdió no puede tener un registro de duración mayor a cero (Dado a que nunca se realizó).\n",
    "3. Se eliminarán casos donde el tiempo total de la llamada sea cero pero la misma no se registra como llamada perdida.\n",
    "4. Se eliminarán casos donde la duración total de llamada es menor a la duración de la llamada sin tomar en cuenta tiempo de espera.\n",
    "5. Se eliminará llamadas salientes sin un operador (con valor 0), debido a la perdida de esa información referente a los operadores."
   ]
  },
  {
   "cell_type": "code",
   "execution_count": 12,
   "metadata": {},
   "outputs": [],
   "source": [
    "\n",
    "call[\"call_espera\"]=call['total_call_duration']-call['call_duration']\n",
    "call=call[~((call[\"is_missed_call\"] == True) & (call['call_duration'] > 0))]\n",
    "call = call[~((call[\"is_missed_call\"] == False) & (call['call_duration'] == 0))]\n",
    "call = call[call['total_call_duration'] >= call['call_duration']]\n",
    "call = call[~((call['direction'] == 'out') & (call['operator_id'] == 0))]"
   ]
  },
  {
   "cell_type": "markdown",
   "metadata": {},
   "source": [
    "Se unen los data frames para tener toda la información en una sola tabla, se comprueba la existencia de valores nulos."
   ]
  },
  {
   "cell_type": "code",
   "execution_count": 13,
   "metadata": {},
   "outputs": [
    {
     "name": "stdout",
     "output_type": "stream",
     "text": [
      "   user_id       date direction  internal  operator_id  is_missed_call  \\\n",
      "0   166377 2019-08-04        in     False          0.0            True   \n",
      "1   166377 2019-08-05       out      True     880022.0            True   \n",
      "2   166377 2019-08-05       out      True     880020.0            True   \n",
      "3   166377 2019-08-05       out      True     880020.0           False   \n",
      "4   166377 2019-08-05       out     False     880022.0            True   \n",
      "\n",
      "   calls_count  call_duration  total_call_duration  call_espera tariff_plan  \\\n",
      "0            2              0                    4            4           B   \n",
      "1            3              0                    5            5           B   \n",
      "2            1              0                    1            1           B   \n",
      "3            1             10                   18            8           B   \n",
      "4            3              0                   25           25           B   \n",
      "\n",
      "  date_start  \n",
      "0 2019-08-01  \n",
      "1 2019-08-01  \n",
      "2 2019-08-01  \n",
      "3 2019-08-01  \n",
      "4 2019-08-01  \n",
      "user_id                0\n",
      "date                   0\n",
      "direction              0\n",
      "internal               0\n",
      "operator_id            0\n",
      "is_missed_call         0\n",
      "calls_count            0\n",
      "call_duration          0\n",
      "total_call_duration    0\n",
      "call_espera            0\n",
      "tariff_plan            0\n",
      "date_start             0\n",
      "dtype: int64\n"
     ]
    }
   ],
   "source": [
    "df_completo = pd.merge(call, tarifa, on=\"user_id\", how=\"left\")\n",
    "print(df_completo.head())\n",
    "print(df_completo.isnull().sum())"
   ]
  },
  {
   "cell_type": "markdown",
   "metadata": {},
   "source": [
    "##  Métricas  <a class=\"anchor\" id=\"me\"></a>\n",
    "\n",
    "Obteniendo métricas para determinar los umbrales para que un operador sea considerado ineficaz.\n",
    "\n",
    "Para esta parte se toma en consideración:\n",
    "1. Cantidad de llamadas entrantes perdidas  \n",
    "2. Tiempo de espera excesivamente largo para llamadas entrantes.  \n",
    "3. Un número de llamadas salientes reducido."
   ]
  },
  {
   "cell_type": "markdown",
   "metadata": {},
   "source": [
    "Se agrupa por las columnas de interés y se obtienen métricas a partir de los puntos mencionados para tomar en consideración el umbral (la suma llamadas perdidas, suma de llamadas tanto salientes como entrantres  y el promedio de tiempo de espera)"
   ]
  },
  {
   "cell_type": "code",
   "execution_count": 14,
   "metadata": {},
   "outputs": [
    {
     "name": "stdout",
     "output_type": "stream",
     "text": [
      "   operator_id tariff_plan direction  internal  is_missed_call_sum  \\\n",
      "0          0.0           A        in     False                1100   \n",
      "1          0.0           A        in      True                  81   \n",
      "2          0.0           B        in     False                2611   \n",
      "3          0.0           B        in      True                  86   \n",
      "4          0.0           C        in     False                3159   \n",
      "\n",
      "   calls_count_sum  call_duration_mean  \n",
      "0            58609          364.160808  \n",
      "1              346           84.988506  \n",
      "2            24335          164.469396  \n",
      "3              373           82.720930  \n",
      "4            20010          125.951887  \n"
     ]
    }
   ],
   "source": [
    "df_1 = df_completo.groupby([\"operator_id\", \"tariff_plan\", \"direction\",\"internal\"]).agg(\n",
    "is_missed_call_sum=('is_missed_call', 'sum'),   # Sumar 'is_missed_call'\n",
    "    calls_count_sum=('calls_count', 'sum'),     # Sumar 'calls_count'\n",
    "    call_duration_mean=('call_espera', 'mean')  # Promedio de 'call_espera'\n",
    ").reset_index()\n",
    "\n",
    "print(df_1.head())\n"
   ]
  },
  {
   "cell_type": "markdown",
   "metadata": {},
   "source": [
    "Debido a que solo queremos los casos en los que las llamadas sean entrantes para las llamadas perdidas y el promedio de duración en espera, se filtra a partir de la columna \"dirección\". Posteriormente, se eliminan dicha columna y el recuento de llamadas, ya que de esta última solo nos interesan las llamadas salientes. "
   ]
  },
  {
   "cell_type": "code",
   "execution_count": 15,
   "metadata": {},
   "outputs": [
    {
     "name": "stdout",
     "output_type": "stream",
     "text": [
      "   operator_id tariff_plan  internal  is_missed_call_sum  call_duration_mean\n",
      "0          0.0           A     False                1100          364.160808\n",
      "1          0.0           A      True                  81           84.988506\n",
      "2          0.0           B     False                2611          164.469396\n",
      "3          0.0           B      True                  86           82.720930\n",
      "4          0.0           C     False                3159          125.951887\n"
     ]
    }
   ],
   "source": [
    "#Solo queremos cuando direction es in para is_missed_call_sum y call_duration_mean\n",
    "df_in=df_1[df_1[\"direction\"]==\"in\"]\n",
    "df_in=df_in.drop(columns=['calls_count_sum', 'direction'])\n",
    "print(df_in.head())"
   ]
  },
  {
   "cell_type": "markdown",
   "metadata": {},
   "source": [
    "Para el caso del recuento de llamadas, solo nos interesa cuando la dirección es considerada como llamada saliente, por lo que se filtra por la columna direction cuando su valor es \"out\", y por la columna operator_id, que se utilizará como punto de unión entre los data frames obtenidos."
   ]
  },
  {
   "cell_type": "code",
   "execution_count": 16,
   "metadata": {},
   "outputs": [
    {
     "name": "stdout",
     "output_type": "stream",
     "text": [
      "      operator_id  calls_count_sum\n",
      "767      912722.0              225\n",
      "1240     930586.0              223\n",
      "1778     945294.0             3368\n",
      "1702     941842.0                3\n",
      "697      908640.0            14234\n"
     ]
    }
   ],
   "source": [
    "#Solo queremos cuando direction es out para calls_count_sum\n",
    "df_out=df_1[df_1[\"direction\"]==\"out\"][[\"operator_id\",\"calls_count_sum\"]]\n",
    "print(df_out.sample(5))\n"
   ]
  },
  {
   "cell_type": "markdown",
   "metadata": {},
   "source": [
    "Se utiliza la columna operator_id para poder unir los data frames y así solo tener los datos relevantes para obtener los umbrales."
   ]
  },
  {
   "cell_type": "code",
   "execution_count": 17,
   "metadata": {},
   "outputs": [
    {
     "name": "stdout",
     "output_type": "stream",
     "text": [
      "   operator_id tariff_plan internal  is_missed_call_sum  call_duration_mean  \\\n",
      "0          0.0           A    False              1100.0          364.160808   \n",
      "1          0.0           A     True                81.0           84.988506   \n",
      "2          0.0           B    False              2611.0          164.469396   \n",
      "3          0.0           B     True                86.0           82.720930   \n",
      "4          0.0           C    False              3159.0          125.951887   \n",
      "\n",
      "   calls_count_sum  \n",
      "0              NaN  \n",
      "1              NaN  \n",
      "2              NaN  \n",
      "3              NaN  \n",
      "4              NaN  \n"
     ]
    }
   ],
   "source": [
    "# Uniendo los DataFrames por 'operator_id'\n",
    "df_merged = pd.merge(df_in, df_out, on='operator_id', how='outer')\n",
    "print(df_merged.head())"
   ]
  },
  {
   "cell_type": "markdown",
   "metadata": {},
   "source": [
    "Ahora que tenemos solo las métricas que necesitamos hay que tratar los valores nulos, estos se generan debido a las condiciones que se consideraron, en este caso los valores nulos se toman como valores desconicidos dependiendo de cada caso (descnocido o 0)"
   ]
  },
  {
   "cell_type": "code",
   "execution_count": 18,
   "metadata": {},
   "outputs": [
    {
     "name": "stdout",
     "output_type": "stream",
     "text": [
      "   operator_id tariff_plan internal  is_missed_call_sum  call_duration_mean  \\\n",
      "0          0.0           A    False              1100.0          364.160808   \n",
      "1          0.0           A     True                81.0           84.988506   \n",
      "2          0.0           B    False              2611.0          164.469396   \n",
      "3          0.0           B     True                86.0           82.720930   \n",
      "4          0.0           C    False              3159.0          125.951887   \n",
      "\n",
      "   calls_count_sum  \n",
      "0              0.0  \n",
      "1              0.0  \n",
      "2              0.0  \n",
      "3              0.0  \n",
      "4              0.0  \n"
     ]
    }
   ],
   "source": [
    "# Rellenando valores NaN en columnas importantes\n",
    "df_merged['tariff_plan'] = df_merged['tariff_plan'].fillna('desconocido')\n",
    "df_merged['internal'] = df_merged['internal'].fillna('desconocido')\n",
    "df_merged['calls_count_sum'] = df_merged['calls_count_sum'].fillna(0)\n",
    "df_merged['is_missed_call_sum'] = df_merged['is_missed_call_sum'].fillna(0)\n",
    "df_merged['call_duration_mean'] = df_merged['call_duration_mean'].fillna(0)\n",
    "df_merged['calls_count_sum'] = df_merged['calls_count_sum'].fillna(0)\n",
    "print(df_merged.head())"
   ]
  },
  {
   "cell_type": "markdown",
   "metadata": {},
   "source": [
    "## Umbrales  <a class=\"anchor\" id=\"um\"></a>\n",
    "En esta parte, se considerarán diferentes formas para obtener los umbrales. Dada la naturaleza de los valores, no podemos considerar únicamente un solo caso; más bien, debemos adaptarlos a la condición humana.\n",
    "\n",
    "1. Se calculara el promedio de los datos.\n",
    "2. Se calculara la media de los datos.\n",
    "3. Se calculara el percentil 90 de los datos."
   ]
  },
  {
   "cell_type": "code",
   "execution_count": 19,
   "metadata": {},
   "outputs": [
    {
     "name": "stdout",
     "output_type": "stream",
     "text": [
      "Promedio de calls_count_sum: 374.73348519362185\n",
      "Promedio de is_missed_call_sum: 4.421412300683372\n",
      "Promedio de call_duration_mean: 42.521910535354785\n"
     ]
    }
   ],
   "source": [
    "# Calculando el promedio\n",
    "promedio_calls_count_sum = df_merged['calls_count_sum'].mean()\n",
    "promedio_is_missed_call_sum = df_merged['is_missed_call_sum'].mean()\n",
    "promedio_call_duration_mean = df_merged['call_duration_mean'].mean()\n",
    "print(f\"Promedio de calls_count_sum: {promedio_calls_count_sum}\")\n",
    "print(f\"Promedio de is_missed_call_sum: {promedio_is_missed_call_sum}\")\n",
    "print(f\"Promedio de call_duration_mean: {promedio_call_duration_mean}\")"
   ]
  },
  {
   "cell_type": "code",
   "execution_count": 20,
   "metadata": {},
   "outputs": [
    {
     "name": "stdout",
     "output_type": "stream",
     "text": [
      "Mediana de calls_count_sum: 12.0\n",
      "Mediana de is_missed_call_sum: 0.0\n",
      "Mediana de call_duration_mean: 20.0\n"
     ]
    }
   ],
   "source": [
    "# Calculando la media\n",
    "media_calls_count_sum = df_merged['calls_count_sum'].median()\n",
    "media_is_missed_call_sum = df_merged['is_missed_call_sum'].median()\n",
    "media_call_duration_mean = df_merged['call_duration_mean'].median()\n",
    "print(f\"Mediana de calls_count_sum: {media_calls_count_sum}\")\n",
    "print(f\"Mediana de is_missed_call_sum: {media_is_missed_call_sum}\")\n",
    "print(f\"Mediana de call_duration_mean: {media_call_duration_mean}\")"
   ]
  },
  {
   "cell_type": "code",
   "execution_count": 21,
   "metadata": {},
   "outputs": [
    {
     "name": "stdout",
     "output_type": "stream",
     "text": [
      "Percentil 90 de calls_count_sum: 972.0\n",
      "Percentil 90 de is_missed_call_sum: 1.0\n",
      "Percentil 90 de call_duration_mean: 92.66666666666667\n"
     ]
    }
   ],
   "source": [
    "# Calcular los percentiles 90 de las columnas seleccionadas\n",
    "percentil_90_calls_count_sum = df_merged['calls_count_sum'].quantile(0.90)\n",
    "percentil_90_is_missed_call_sum = df_merged['is_missed_call_sum'].quantile(0.90)\n",
    "percentil_90_call_duration_mean = df_merged['call_duration_mean'].quantile(0.90)\n",
    "\n",
    "# Imprimir los resultados\n",
    "print(f\"Percentil 90 de calls_count_sum: {percentil_90_calls_count_sum}\")\n",
    "print(f\"Percentil 90 de is_missed_call_sum: {percentil_90_is_missed_call_sum}\")\n",
    "print(f\"Percentil 90 de call_duration_mean: {percentil_90_call_duration_mean}\")"
   ]
  },
  {
   "cell_type": "markdown",
   "metadata": {},
   "source": [
    "Para tener una idea de como seleccionar los umbrales tenemos que ver como es que se distibuyen los datos"
   ]
  },
  {
   "cell_type": "code",
   "execution_count": 22,
   "metadata": {},
   "outputs": [
    {
     "name": "stdout",
     "output_type": "stream",
     "text": [
      "is_missed_call_sum\n",
      "0.0       1495\n",
      "1.0        137\n",
      "2.0         53\n",
      "3.0         23\n",
      "4.0         14\n",
      "10.0         6\n",
      "5.0          5\n",
      "12.0         4\n",
      "6.0          4\n",
      "7.0          3\n",
      "13.0         2\n",
      "8.0          2\n",
      "86.0         1\n",
      "2611.0       1\n",
      "81.0         1\n",
      "1100.0       1\n",
      "112.0        1\n",
      "3159.0       1\n",
      "16.0         1\n",
      "11.0         1\n",
      "Name: count, dtype: int64\n",
      "call_duration_mean\n",
      "0.000000     478\n",
      "13.000000     22\n",
      "20.000000     20\n",
      "9.000000      20\n",
      "14.000000     19\n",
      "            ... \n",
      "62.000000      1\n",
      "88.583333      1\n",
      "48.052632      1\n",
      "31.285714      1\n",
      "62.700000      1\n",
      "Name: count, Length: 606, dtype: int64\n",
      "calls_count_sum\n",
      "0.0       249\n",
      "1.0       179\n",
      "2.0        88\n",
      "3.0        78\n",
      "4.0        54\n",
      "         ... \n",
      "612.0       1\n",
      "354.0       1\n",
      "1484.0      1\n",
      "1530.0      1\n",
      "79.0        1\n",
      "Name: count, Length: 474, dtype: int64\n"
     ]
    }
   ],
   "source": [
    "# Llamadas perdidas\n",
    "print(df_merged['is_missed_call_sum'].value_counts())\n",
    "# Duración promedio de espera\n",
    "print(df_merged['call_duration_mean'].value_counts())\n",
    "# Llamadas salientes por operador\n",
    "print(df_merged['calls_count_sum'].value_counts())"
   ]
  },
  {
   "cell_type": "markdown",
   "metadata": {},
   "source": [
    "Debido a que la visualización es difícil al ver solo los datos en algunos casos, se procede a graficar. Se usa la función mostrada previamente."
   ]
  },
  {
   "cell_type": "code",
   "execution_count": 23,
   "metadata": {},
   "outputs": [
    {
     "data": {
      "image/png": "[encoded data removed]",
      "text/plain": [
       "<Figure size 1000x600 with 1 Axes>"
      ]
     },
     "metadata": {},
     "output_type": "display_data"
    },
    {
     "data": {
      "image/png": "[encoded data removed]",
      "text/plain": [
       "<Figure size 1000x600 with 1 Axes>"
      ]
     },
     "metadata": {},
     "output_type": "display_data"
    },
    {
     "data": {
      "image/png": "[encoded data removed]",
      "text/plain": [
       "<Figure size 1000x600 with 1 Axes>"
      ]
     },
     "metadata": {},
     "output_type": "display_data"
    }
   ],
   "source": [
    "# Usando la función para dibujar los histogramas\n",
    "plot_histogram(df_merged, 'is_missed_call_sum', 'skyblue', 'Distribución de Llamadas Perdidas Entrantes', 'Llamadas Perdidas Entrantes', 'Frecuencia')\n",
    "plot_histogram(df_merged, 'call_duration_mean', 'lightgreen', 'Distribución del Tiempo de Espera Promedio Entrante', 'Tiempo de Espera Promedio (segundos)', 'Frecuencia')\n",
    "plot_histogram(df_merged, 'calls_count_sum', 'lightcoral', 'Distribución de Llamadas Salientes', 'Número de Llamadas Salientes', 'Frecuencia')"
   ]
  },
  {
   "cell_type": "markdown",
   "metadata": {},
   "source": [
    "Los ejes de las gráficas se ajustaron de tal manera que permiten visualizar de forma más clara cómo se comportan los datos. Tomando en cuenta los umbrales obtenidos, las gráficas y considerando la condición humana, se optó por utilizar la siguiente combinación:\n",
    "\n",
    "El promedio de llamadas perdidas.\n",
    "\n",
    "El promedio del tiempo de espera para responder una llamada.\n",
    "\n",
    "La media de las llamadas salientes."
   ]
  },
  {
   "cell_type": "code",
   "execution_count": 24,
   "metadata": {},
   "outputs": [],
   "source": [
    "# operadores ineficaces\n",
    "df_merged['ineficaz'] = (df_merged['is_missed_call_sum'] > promedio_is_missed_call_sum) | \\\n",
    "                                 (df_merged['call_duration_mean'] > promedio_call_duration_mean) | \\\n",
    "                                 (df_merged['calls_count_sum'] < media_calls_count_sum)"
   ]
  },
  {
   "cell_type": "markdown",
   "metadata": {},
   "source": [
    "##  Porcentajes  <a class=\"anchor\" id=\"pr\"></a>\n",
    "\n",
    "Ahora que hemos establecido los operadores ineficaces, procedemos a filtrar el DataFrame para obtener los porcentajes de operadores eficaces e ineficaces."
   ]
  },
  {
   "cell_type": "code",
   "execution_count": 25,
   "metadata": {},
   "outputs": [
    {
     "name": "stdout",
     "output_type": "stream",
     "text": [
      "Porcentaje de operadores ineficaces: 64.07%\n",
      "Porcentaje de operadores eficaces: 35.93%\n"
     ]
    }
   ],
   "source": [
    "operadores_ineficaces = df_merged[df_merged['ineficaz'] == True]\n",
    "total_operadores = len(df_merged) # Número total de operadores\n",
    "num_operadores_ineficientes = df_merged[df_merged['ineficaz'] == True].shape[0] # Número de operadores ineficaces\n",
    "num_operadores_eficaces = total_operadores - num_operadores_ineficientes # Número de operadores eficaces\n",
    "porcentaje_ineficientes = (num_operadores_ineficientes / total_operadores) * 100 # Porcentaje de operadores ineficaces\n",
    "porcentaje_eficaces = (num_operadores_eficaces / total_operadores) * 100 # Porcentaje de operadores eficaces\n",
    "\n",
    "print(f\"Porcentaje de operadores ineficaces: {porcentaje_ineficientes:.2f}%\")\n",
    "print(f\"Porcentaje de operadores eficaces: {porcentaje_eficaces:.2f}%\")\n"
   ]
  },
  {
   "cell_type": "markdown",
   "metadata": {},
   "source": [
    "Tras filtrar el DataFrame, se obtuvieron los siguientes resultados: el porcentaje de operadores ineficaces es del 64.07%, mientras que el porcentaje de operadores eficaces es del 35.93%."
   ]
  },
  {
   "cell_type": "markdown",
   "metadata": {},
   "source": [
    "##  Prueba de hipótesis  <a class=\"anchor\" id=\"hp\"></a>\n",
    "\n",
    "Se realizarán tres pruebas de hipótesis, para ello primero se crean los grupos correspondientes a anlizar."
   ]
  },
  {
   "cell_type": "code",
   "execution_count": 26,
   "metadata": {},
   "outputs": [],
   "source": [
    "eficaces = df_merged[df_merged['ineficaz'] == False]\n",
    "ineficaces = df_merged[df_merged['ineficaz'] == True]"
   ]
  },
  {
   "cell_type": "markdown",
   "metadata": {},
   "source": [
    "1. Test de Hipótesis 1.Llamadas Perdidas Entrantes (is_missed_call_sum) \n",
    "\n",
    "H0 (Hipótesis Nula): No hay diferencia significativa en el número de llamadas perdidas entrantes entre operadores eficaces e ineficaces. En otras palabras, las medias de llamadas perdidas entre los dos grupos son iguales. \n",
    "𝐻0: 𝜇 eficaz = 𝜇 ineficaz\n",
    "\n",
    "H1 (Hipótesis Alternativa): Hay una diferencia significativa en el número de llamadas perdidas entrantes entre operadores eficaces e ineficaces. Es decir, las medias son diferentes.\n",
    "𝐻1: 𝜇 eficaz ≠ 𝜇 ineficaz\n"
   ]
  },
  {
   "cell_type": "code",
   "execution_count": 27,
   "metadata": {},
   "outputs": [
    {
     "name": "stdout",
     "output_type": "stream",
     "text": [
      "\n",
      "Prueba de Mann-Whitney U - is_missed_call_sum vs is_missed_call_sum:\n",
      "p-value: 0.0000\n",
      "Rechazamos la hipótesis nula: hay una diferencia significativa.\n"
     ]
    }
   ],
   "source": [
    "prueba_mannwhitney(eficaces, ineficaces, 'is_missed_call_sum', 'is_missed_call_sum', alpha=0.05)\n"
   ]
  },
  {
   "cell_type": "markdown",
   "metadata": {},
   "source": [
    "2. Duración del Tiempo de Espera para Responder una Llamada (call_duration_mean)\n",
    "\n",
    "H₀ (Hipótesis Nula): No hay diferencia significativa en el tiempo de espera para responder una llamada entre operadores eficaces e ineficaces. Las medias de tiempo de espera entre los dos grupos son iguales.\n",
    "𝐻₀: 𝜇 eficaz = 𝜇 ineficaz\n",
    "\n",
    "H₁ (Hipótesis Alternativa): Hay una diferencia significativa en el tiempo de espera para responder una llamada entre operadores eficaces e ineficaces. Las medias son diferentes.\n",
    "𝐻₁: 𝜇 eficaz ≠ 𝜇 ineficaz"
   ]
  },
  {
   "cell_type": "code",
   "execution_count": 28,
   "metadata": {},
   "outputs": [
    {
     "name": "stdout",
     "output_type": "stream",
     "text": [
      "\n",
      "Prueba de Mann-Whitney U - call_duration_mean vs call_duration_mean:\n",
      "p-value: 0.0000\n",
      "Rechazamos la hipótesis nula: hay una diferencia significativa.\n"
     ]
    }
   ],
   "source": [
    "prueba_mannwhitney(eficaces, ineficaces, 'call_duration_mean', 'call_duration_mean', alpha=0.05)\n"
   ]
  },
  {
   "cell_type": "markdown",
   "metadata": {},
   "source": [
    "3. Llamadas Salientes (calls_count_sum)\n",
    "\n",
    "H₀ (Hipótesis Nula): No hay diferencia significativa en el número de llamadas salientes realizadas entre operadores eficaces e ineficaces. Las medias de llamadas salientes entre los dos grupos son iguales.\n",
    "𝐻₀: 𝜇 eficaz = 𝜇 ineficaz\n",
    "\n",
    "H₁ (Hipótesis Alternativa): Hay una diferencia significativa en el número de llamadas salientes realizadas entre operadores eficaces e ineficaces. Las medias son diferentes.\n",
    "𝐻₁: 𝜇 eficaz ≠ 𝜇 ineficaz"
   ]
  },
  {
   "cell_type": "code",
   "execution_count": 29,
   "metadata": {},
   "outputs": [
    {
     "name": "stdout",
     "output_type": "stream",
     "text": [
      "\n",
      "Prueba de Mann-Whitney U - calls_count_sum vs calls_count_sum:\n",
      "p-value: 0.0000\n",
      "Rechazamos la hipótesis nula: hay una diferencia significativa.\n"
     ]
    }
   ],
   "source": [
    "prueba_mannwhitney(eficaces, ineficaces, 'calls_count_sum', 'calls_count_sum', alpha=0.05)"
   ]
  },
  {
   "cell_type": "markdown",
   "metadata": {},
   "source": [
    "En todos los casos, se rechaza la hipótesis nula, ya que los valores p son menores que el nivel de significancia (0.05). Esto indica que hay diferencias significativas entre los operadores eficaces e ineficaces en relación con las tres métricas analizadas: llamadas perdidas, tiempo de espera promedio y número de llamadas salientes.\n",
    "\n",
    "Las diferencias observadas entre los dos grupos son estadísticamente significativas, lo que sugiere que los operadores eficaces y los ineficaces muestran comportamientos distintos en estos aspectos. Por lo tanto, podemos concluir que el comportamiento entre un operador eficaz y uno ineficaz es lo suficientemente grande como para ser relevante y destacar."
   ]
  },
  {
   "cell_type": "markdown",
   "metadata": {},
   "source": [
    "##  Dashboard <a class=\"anchor\" id=\"ds\"></a>\n",
    "\n",
    "https://public.tableau.com/app/profile/h.ctor.mart.nez7696/viz/Dashboard_17405940593230/Dashboard1?publish=yes"
   ]
  },
  {
   "cell_type": "markdown",
   "metadata": {},
   "source": [
    "##  Conclusiones  <a class=\"anchor\" id=\"cl\"></a>\n",
    "\n",
    "Hablando de la Eficacia de los Operadores:\n",
    "Los operadores clasificados como eficaces muestran un comportamiento más eficiente, caracterizado por una menor cantidad de llamadas perdidas, tiempos de duración de llamada más cortos y un mayor número de llamadas realizadas. Por el contrario, los operadores ineficaces presentan mayores cantidades de llamadas perdidas, tiempos de espera más largos y menos llamadas realizadas, de una manera claramente notable.\n",
    "\n",
    "Estas observaciones están respaldadas por la significancia estadística. Las pruebas de Mann-Whitney U revelan diferencias claras y significativas en todos los aspectos evaluados, lo que refuerza la distinción entre operadores eficaces e ineficaces. Esto sugiere que la diferencia entre ambos grupos es lo suficientemente grande y determinante como para justificar esta clasificación.\n",
    "\n"
   ]
  },
  {
   "cell_type": "markdown",
   "metadata": {},
   "source": [
    "## Recomendaciones <a class=\"anchor\" id=\"rc\"></a>\n",
    "\n",
    "Es importante considerar las diferencias encontradas entre los operadores eficaces e ineficaces para diseñar intervenciones que mejoren el desempeño de estos últimos. Algunas recomendaciones incluyen:\n",
    "\n",
    "# Capacitación y Entrenamiento\n",
    "1. Mejora en la gestión del tiempo de llamada:\n",
    "Si los operadores ineficaces tienen tiempos de duración de llamadas más largos, sería beneficioso ofrecer capacitación específica sobre cómo gestionar mejor las llamadas para ser más eficientes, sin sacrificar la calidad del servicio. Esto podría incluir habilidades de comunicación, técnicas para manejar objeciones rápidamente o estrategias de cierre de llamadas más efectivas.\n",
    "\n",
    "2. Manejo de llamadas perdidas:\n",
    "Para los operadores con más llamadas perdidas, desarrollar un programa de capacitación enfocado en cómo mejorar la respuesta en el momento adecuado sería útil. Esto podría implicar enseñarles a ser más rápidos al contestar llamadas y evitar pérdidas innecesarias.\n",
    "\n",
    "# Optimización del Proceso de Llamadas\n",
    "3. Mejorar la distribución de las llamadas:\n",
    "Si los operadores ineficaces están sobrecargados o no reciben el tipo de llamadas que mejor manejan, podría ser beneficioso revisar la distribución de las llamadas. Así, los operadores eficaces podrían manejar un mayor volumen, mientras que los ineficaces recibirían llamadas más ajustadas a sus habilidades, lo que optimizaría el rendimiento general.\n",
    "\n",
    "# Incentivos y Motivación\n",
    "4. Programas de incentivos:\n",
    "Establecer un sistema de incentivos puede motivar a los operadores a mejorar su rendimiento. Por ejemplo, recompensar a los operadores que logren reducir su tiempo de llamada o disminuir las llamadas perdidas podría ser un aliciente para que trabajen en mejorar sus métricas.\n",
    "\n",
    "# Ajuste en la Clasificación de Operadores\n",
    "\n",
    "5. Ajustar los umbrales de clasificación:\n",
    "Si las definiciones de \"eficaz\" e \"ineficaz\" están basadas únicamente en las métricas, estas podrían resultar demasiado rígidas. Podría ser útil ajustar los umbrales para clasificar a los operadores, considerando factores externos que también pueden influir en su desempeño, lo cual evitaría clasificaciones erróneas que no reflejan completamente las capacidades de los operadores.\n",
    "\n"
   ]
  },
  {
   "cell_type": "markdown",
   "metadata": {},
   "source": [
    "## Fuentes de infomación <a class=\"anchor\" id=\"fdi\"></a>\n",
    "\n",
    "1. Establecer links entre el índice y el contenido del documento.\n",
    "\n",
    "Stack Overflow. (2013, agosto 18). How can I add a table of contents to a Jupyter/JupyterLab notebook? Stack Overflow. https://stackoverflow.com/questions/21151450/how-can-i-add-a-table-of-contents-to-a-jupyter-jupyterlab-notebook\n",
    "\n",
    "2. Establecer la escala del eje \"y\" en log10 e interpretación de datos. \n",
    "\n",
    "Tableau. (2021, febrero 1). Log transform Tableau [Video]. YouTube. https://www.youtube.com/watch?v=KcuNi1EJYvI\n",
    "\n",
    "3.  Prueba de hipótesis e histogramas de frecuencia.\n",
    "\n",
    "Tripleten (2024) Sprint 5: Análisis estadístico de datos \n",
    "\n",
    "4. Prueba de Mann-Whitney en Python (prueba estadística no paramétrica utilizada para comparar dos grupos independientes cuando los datos no siguen una distribución normal).\n",
    "\n",
    "SciPy.org. (n.d.). scipy.stats.mannwhitneyu. SciPy. Recuperado el 19 de febrero de 2025, de https://docs.scipy.org/doc/scipy/reference/generated/scipy.stats.mannwhitneyu.html\n",
    "\n",
    "5. Convertir tipo de datos de interes a tipo datetime.\n",
    "\n",
    "Python. (n.d.). datetime — Basic date and time types. Python 3. Recuperado el 19 de febrero de 2025, de https://docs.python.org/3/library/datetime.htm\n",
    "\n",
    "\n",
    "6. Combinar data frames con merge(), crear gráficas en Python con matplotlib, Histogramas\n",
    "\n",
    "Tripleten (2024) Sprint 6: Manipulación de datos (Data Wrangling) \n"
   ]
  }
 ],
 "metadata": {
  "kernelspec": {
   "display_name": "Python 3",
   "language": "python",
   "name": "python3"
  },
  "language_info": {
   "codemirror_mode": {
    "name": "ipython",
    "version": 3
   },
   "file_extension": ".py",
   "mimetype": "text/x-python",
   "name": "python",
   "nbconvert_exporter": "python",
   "pygments_lexer": "ipython3",
   "version": "3.13.0"
  }
 },
 "nbformat": 4,
 "nbformat_minor": 2
}
